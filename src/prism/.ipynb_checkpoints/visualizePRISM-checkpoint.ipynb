{
 "cells": [
  {
   "cell_type": "code",
   "execution_count": null,
   "id": "972cefe5-3a83-48ac-b55f-9f544cbc6be5",
   "metadata": {},
   "outputs": [],
   "source": [
    "# visualizePRISM.ipynb\n",
    "# Licensed under the MIT License\n",
    "# © Author: Sarah Mokhtar"
   ]
  },
  {
   "cell_type": "code",
   "execution_count": null,
   "id": "6851b1f1-783c-40a4-a7b2-ee47214756a9",
   "metadata": {},
   "outputs": [],
   "source": [
    "import os, sys\n",
    "from pathlib import Path\n",
    "\n",
    "def _find_repo_root(start: Path) -> Path:\n",
    "    p = start.resolve()\n",
    "    for parent in (p, *p.parents):\n",
    "        if (parent / \".git\").exists() or (parent / \"UPSTREAM.md\").exists() or (parent / \"requirements.txt\").exists():\n",
    "            return parent\n",
    "    return start.resolve().parents[2]\n",
    "\n",
    "HERE = Path.cwd()\n",
    "ROOT = _find_repo_root(HERE)\n",
    "\n",
    "sys.path.insert(0, str(ROOT / \"src\"))\n",
    "sys.path.insert(0, str(ROOT / \"third_party\"))\n",
    "\n",
    "from prism.viz.viz_utils import *"
   ]
  },
  {
   "cell_type": "markdown",
   "id": "6a948e00-a949-499e-855c-ba541c83de17",
   "metadata": {},
   "source": [
    "##### Directory definition"
   ]
  },
  {
   "cell_type": "code",
   "execution_count": null,
   "id": "6bdee219-e7a6-4470-9914-8c17c70c4b2d",
   "metadata": {},
   "outputs": [],
   "source": [
    "cur_dir = '' # Add folder location of dataset subsample"
   ]
  },
  {
   "cell_type": "code",
   "execution_count": null,
   "id": "6fbff5f1-37f3-4e30-93b8-9ae276e2ce86",
   "metadata": {},
   "outputs": [],
   "source": [
    "b_name = 'building_345'\n",
    "sample_dir = os.path.join(cur_dir,b_name)"
   ]
  },
  {
   "cell_type": "markdown",
   "id": "89a344c1-9c90-4bc9-b7bb-d9baf84e1b1b",
   "metadata": {},
   "source": [
    "##### Inspect Directory Contents"
   ]
  },
  {
   "cell_type": "code",
   "execution_count": null,
   "id": "736205b5-3f4a-4be6-a0af-a3832f1ae6e8",
   "metadata": {},
   "outputs": [],
   "source": [
    "raw_dir = os.path.join(sample_dir, 'raw')\n",
    "proc_dir = os.path.join(sample_dir, 'proc')"
   ]
  },
  {
   "cell_type": "code",
   "execution_count": null,
   "id": "ebe3e792-aa6b-4b1f-a6de-b11bf9426183",
   "metadata": {},
   "outputs": [],
   "source": [
    "print(os.listdir(raw_dir))"
   ]
  },
  {
   "cell_type": "code",
   "execution_count": null,
   "id": "70f9a181-ff6e-4b1c-b3fb-6499402532b3",
   "metadata": {},
   "outputs": [],
   "source": [
    "print('Directories for raw data:')\n",
    "for root, dirs, files in os.walk(raw_dir):\n",
    "    for dir in dirs:\n",
    "        print(dir)"
   ]
  },
  {
   "cell_type": "code",
   "execution_count": null,
   "id": "7559c465-a256-45c0-a4fb-fd4842d320ec",
   "metadata": {},
   "outputs": [],
   "source": [
    "print('All files for raw data:')\n",
    "for root, dirs, files in os.walk(raw_dir):\n",
    "    for file in files:\n",
    "        print(file)"
   ]
  },
  {
   "cell_type": "code",
   "execution_count": null,
   "id": "7925f3c9-3d03-431e-9e4d-3afe8d408c1a",
   "metadata": {},
   "outputs": [],
   "source": [
    "print('All directories for processed CFD data:')\n",
    "for root, dirs, files in os.walk(proc_dir):\n",
    "    for dir in dirs:\n",
    "        print(dir)"
   ]
  },
  {
   "cell_type": "code",
   "execution_count": null,
   "id": "790f468f-690d-4f29-b322-b0d3ab72b327",
   "metadata": {},
   "outputs": [],
   "source": [
    "print('All files for processed CFD data:')\n",
    "for root, dirs, files in os.walk(proc_dir):\n",
    "    for file in files:\n",
    "        parent_dir = os.path.basename(root)\n",
    "        print(f\"{parent_dir}/{file}\")"
   ]
  },
  {
   "cell_type": "code",
   "execution_count": null,
   "id": "f66bd8dd-41f0-495a-855b-94d982c4a4ea",
   "metadata": {},
   "outputs": [],
   "source": [
    "for root, dirs, files in os.walk(proc_dir):\n",
    "    for dir in dirs:\n",
    "        print(dir)"
   ]
  },
  {
   "cell_type": "markdown",
   "id": "3ef4ceb2-7b77-4e12-9350-001e69f13c17",
   "metadata": {},
   "source": [
    "##### Visualize Geometry"
   ]
  },
  {
   "cell_type": "code",
   "execution_count": null,
   "id": "673a2198-a5fa-4b6e-af55-6eee87bec038",
   "metadata": {},
   "outputs": [],
   "source": [
    "b_mesh = trimesh.load_mesh(os.path.join(raw_dir,'geometry','explicit',b_name+'.obj'), skip_materials=True)\n",
    "bbox = np.array([[-260.,  260.],[ -10.,  510.], [-260.,  260.]])"
   ]
  },
  {
   "cell_type": "code",
   "execution_count": null,
   "id": "dca29b66-76ff-46d9-a513-53269095ff16",
   "metadata": {},
   "outputs": [],
   "source": [
    "visualize_mesh(b_mesh.vertices, b_mesh.faces)"
   ]
  },
  {
   "cell_type": "markdown",
   "id": "4ccc7894-350c-426e-8c07-60bd2dedb509",
   "metadata": {},
   "source": [
    "###### Point cloud"
   ]
  },
  {
   "cell_type": "code",
   "execution_count": null,
   "id": "7c545740-c59c-43dc-84e5-c22496d0c0e5",
   "metadata": {},
   "outputs": [],
   "source": [
    "pc = np.load(os.path.join(raw_dir,'geometry','implicit','zeroSurface',b_name+'_zeroSurface.npz'))['alls']\n",
    "xyz = pc[:,0:3]\n",
    "nor = pc[:,3:]"
   ]
  },
  {
   "cell_type": "code",
   "execution_count": null,
   "id": "f409610d-64d7-41db-9657-26a04ce97056",
   "metadata": {},
   "outputs": [],
   "source": [
    "n_points = 5000\n",
    "rand_idx = np.random.randint(0,xyz.shape[0],n_points)\n",
    "norm_mesh = normalize_mesh(b_mesh, bbox)\n",
    "normals_unit = nor / np.linalg.norm(nor, axis=1, keepdims=True)\n",
    "theta = np.arctan2(normals_unit[:,1], normals_unit[:,0])\n",
    "values = (theta + np.pi) / (2 * np.pi)"
   ]
  },
  {
   "cell_type": "code",
   "execution_count": null,
   "id": "34277b5c-54ab-438a-b43b-826c4e0be62d",
   "metadata": {},
   "outputs": [],
   "source": [
    "plot_points_mesh(norm_mesh, xyz[rand_idx], values[rand_idx].flatten(), bbox=[[0,1],[0,1],[0,1]]).show()"
   ]
  },
  {
   "cell_type": "markdown",
   "id": "4fd49310-5bc2-488f-b882-9670c2f878eb",
   "metadata": {},
   "source": [
    "###### SDF"
   ]
  },
  {
   "cell_type": "code",
   "execution_count": null,
   "id": "4e7fcc64-4343-4662-81b7-e6132bceb65d",
   "metadata": {},
   "outputs": [],
   "source": [
    "samp_types = ['rejection','surface','uniform','combined/rej_100_sur_100_uni_100_zer_100','combined/rej_100_sur_100_uni_10_zer_100']\n",
    "sel_stype = 'rejection'\n",
    "sel_sID = samp_types.index(sel_stype)"
   ]
  },
  {
   "cell_type": "code",
   "execution_count": null,
   "id": "6c60240d-862b-46d4-acd2-56bc79dd2fd8",
   "metadata": {},
   "outputs": [],
   "source": [
    "p_type = 'pos'   # or 'zero' or 'neg'\n",
    "sdf_byT = np.load(os.path.join(raw_dir,'geometry','implicit',sel_stype,b_name+'_'+sel_stype+'.npz'))[p_type]"
   ]
  },
  {
   "cell_type": "code",
   "execution_count": null,
   "id": "3e196c14-2f79-4add-8959-7e86242f2d72",
   "metadata": {},
   "outputs": [],
   "source": [
    "xyz = sdf_byT[:,0:3]\n",
    "sdf_v = sdf_byT[:,3:]"
   ]
  },
  {
   "cell_type": "code",
   "execution_count": null,
   "id": "58ad612b-375e-4abe-80ff-33a8edd21c83",
   "metadata": {},
   "outputs": [],
   "source": [
    "n_points = 5000\n",
    "rand_idx = np.random.randint(0,xyz.shape[0],n_points)\n",
    "norm_mesh = normalize_mesh(b_mesh, bbox)\n",
    "values = sdf_v"
   ]
  },
  {
   "cell_type": "code",
   "execution_count": null,
   "id": "c6e31bd6-b439-49cd-8916-b84f2210dfc1",
   "metadata": {},
   "outputs": [],
   "source": [
    "plot_points_mesh(norm_mesh, xyz[rand_idx], values[rand_idx].flatten(), bbox=[[0,1],[0,1],[0,1]], cmin_v=0, cmax_v=0.1).show()"
   ]
  },
  {
   "cell_type": "markdown",
   "id": "6c70fa94-d44e-46fb-bf59-40765b2a248b",
   "metadata": {},
   "source": [
    "##### Visualize Performance"
   ]
  },
  {
   "cell_type": "markdown",
   "id": "ad6d2d85-ac3c-443c-9a1c-60b595d5ff83",
   "metadata": {},
   "source": [
    "###### CFD"
   ]
  },
  {
   "cell_type": "code",
   "execution_count": null,
   "id": "4c239956-c121-47c8-8535-aaf4a3847770",
   "metadata": {},
   "outputs": [],
   "source": [
    "av_windD = np.array([int(d.split('_')[2]) for d in os.listdir(proc_dir) if os.path.isdir(os.path.join(proc_dir, d))])\n",
    "av_windD"
   ]
  },
  {
   "cell_type": "code",
   "execution_count": null,
   "id": "a23e49e4-8bc7-4a86-b594-0f8c7af37c23",
   "metadata": {},
   "outputs": [],
   "source": [
    "sel_windD = 0"
   ]
  },
  {
   "cell_type": "code",
   "execution_count": null,
   "id": "0e595d2a-2ef1-47d3-b689-7580e5123c54",
   "metadata": {},
   "outputs": [],
   "source": [
    "path_srf = proc_dir\n",
    "path_byO = os.path.join(proc_dir, b_name + '_' + str(sel_windD))"
   ]
  },
  {
   "cell_type": "code",
   "execution_count": null,
   "id": "48f5f00e-c677-461d-8a0f-d76cf85b27b3",
   "metadata": {},
   "outputs": [],
   "source": [
    "y = np.load(os.path.join(path_byO,'y.npy'))\n",
    "vel = y[:,0:3]\n",
    "sp = np.linalg.norm(vel, axis=1)\n",
    "pres = y[:,4:]\n",
    "print('vel.shape',vel.shape,'sp.shape',sp.shape,'pres.shape',pres.shape)"
   ]
  },
  {
   "cell_type": "code",
   "execution_count": null,
   "id": "67cba859-f161-42bb-932c-efd3c45d0d2e",
   "metadata": {},
   "outputs": [],
   "source": [
    "x = np.load(os.path.join(path_srf,'x.npy'))\n",
    "pos = x[:,0:3]\n",
    "sdf = x[:,3:4]\n",
    "nor = x[:,4:]\n",
    "print('pos.shape',pos.shape,'sdf.shape',sdf.shape,'nor.shape',nor.shape)"
   ]
  },
  {
   "cell_type": "code",
   "execution_count": null,
   "id": "76b5f55f-8e38-4b31-8195-e9546272bf23",
   "metadata": {},
   "outputs": [],
   "source": [
    "surf = np.load(os.path.join(path_srf,'surf.npy'))\n",
    "print('surf.shape',surf.shape)"
   ]
  },
  {
   "cell_type": "code",
   "execution_count": null,
   "id": "8c5b45dc-48b8-46ad-884c-e0c265f498c2",
   "metadata": {},
   "outputs": [],
   "source": [
    "plot_srf_pressure(pos, surf, pres)"
   ]
  },
  {
   "cell_type": "code",
   "execution_count": null,
   "id": "dc7b67f2-9f84-4ec1-b1cc-5fb746d925b0",
   "metadata": {},
   "outputs": [],
   "source": [
    "visualize_velocity_field(pos, sp)"
   ]
  },
  {
   "cell_type": "code",
   "execution_count": null,
   "id": "320dd2e0-0299-4405-bee8-7dfcc01c1590",
   "metadata": {},
   "outputs": [],
   "source": [
    "visualize_velocity_in_domain(pos, vel, n_pts=20000)"
   ]
  },
  {
   "cell_type": "markdown",
   "id": "6601d68c-3d41-4f85-97a8-b6afdfec963d",
   "metadata": {},
   "source": [
    "###### SVF"
   ]
  },
  {
   "cell_type": "code",
   "execution_count": null,
   "id": "1bfba345-e8f6-46e9-8d2a-a83dd75f7513",
   "metadata": {},
   "outputs": [],
   "source": [
    "b_mesh = trimesh.load_mesh(os.path.join(raw_dir,'geometry','explicit',b_name+'.obj'), skip_materials=True)\n",
    "bbox = np.array([[-260.,  260.],[ -10.,  510.], [-260.,  260.]])\n",
    "srf_pts = pd.read_csv(os.path.join(raw_dir,'geometry','perf_grid',b_name+'_srfP_20.csv'), header=None).values.round(3)[:,[0,2,1]]\n",
    "srf_pts[:,2] = srf_pts[:,2]*-1\n",
    "grd_pts = pd.read_csv(os.path.join(raw_dir,'geometry','perf_grid','XYgrid_256_30.csv'), header=None).values.round(3)[:,[0,2,1]]\n",
    "grd_pts[:,1] = 1.5\n",
    "grd_SVF = np.load(os.path.join(raw_dir,'performance','svfbypat',b_name+'_XYgrid_256_30_15_svfbypat.npy'))\n",
    "srf_SVF = np.load(os.path.join(raw_dir,'performance','svfbypat',b_name+'_srf_20_svfbypat.npy'))\n",
    "print('srf_pts',srf_pts.shape,'grd_pts',grd_pts.shape,'grd_SVF',grd_SVF.shape,'srf_SVF',srf_SVF.shape)"
   ]
  },
  {
   "cell_type": "code",
   "execution_count": null,
   "id": "917d9c3f-fd1a-4ead-a654-f48888609e1e",
   "metadata": {},
   "outputs": [],
   "source": [
    "plot_points_mesh(b_mesh, srf_pts, np.sum(srf_SVF,axis=1)/577, bbox, cmin_v = 0, cmax_v = 1).show()"
   ]
  },
  {
   "cell_type": "code",
   "execution_count": null,
   "id": "abdf6074-4c96-4c28-9846-1175ad6c051e",
   "metadata": {},
   "outputs": [],
   "source": [
    "plot_points_mesh(b_mesh, grd_pts, np.sum(grd_SVF,axis=1)/577, bbox, cmin_v = 0, cmax_v = 1).show()"
   ]
  },
  {
   "cell_type": "code",
   "execution_count": null,
   "id": "d6193941-4368-4380-ad32-bfcf50fafc9a",
   "metadata": {},
   "outputs": [],
   "source": [
    "# Fir different sky patches\n",
    "sky_pat = 6\n",
    "plot_points_mesh(b_mesh, grd_pts, grd_SVF[:,sky_pat], bbox, cmin_v = 0, cmax_v = 1).show()"
   ]
  },
  {
   "cell_type": "code",
   "execution_count": null,
   "id": "08aa1adf-4332-4cc6-af77-84392d07f355",
   "metadata": {},
   "outputs": [],
   "source": [
    "# Fir different sky patches\n",
    "sky_pat = 200\n",
    "plot_points_mesh(b_mesh, grd_pts, grd_SVF[:,sky_pat], bbox, cmin_v = 0, cmax_v = 1).show()"
   ]
  }
 ],
 "metadata": {
  "kernelspec": {
   "display_name": "Python 3 (ipykernel)",
   "language": "python",
   "name": "python3"
  },
  "language_info": {
   "codemirror_mode": {
    "name": "ipython",
    "version": 3
   },
   "file_extension": ".py",
   "mimetype": "text/x-python",
   "name": "python",
   "nbconvert_exporter": "python",
   "pygments_lexer": "ipython3",
   "version": "3.9.18"
  }
 },
 "nbformat": 4,
 "nbformat_minor": 5
}
